{
 "cells": [
  {
   "cell_type": "code",
   "execution_count": 1,
   "metadata": {},
   "outputs": [],
   "source": [
    "import numpy as np"
   ]
  },
  {
   "cell_type": "code",
   "execution_count": 2,
   "metadata": {},
   "outputs": [],
   "source": [
    "def adam(f, grad_f, theta0, alpha=0.001, beta1=0.9, beta2=0.999, epsilon=1e-8, max_iter=1000):\n",
    "    theta = theta0\n",
    "\n",
    "    m = np.zeros_like(theta) #1st moment vector\n",
    "    v = np.zeros_like(theta) #2nd moment vector\n",
    "    t= 0\n",
    "\n",
    "    for t in range(1, max_iter + 1):\n",
    "        grad = grad_f(theta) #gradients at current theta\n",
    "\n",
    "        m = beta1 * m + (1 - beta1) * grad #update biased first moment estimate\n",
    "        v = beta2 * v + (1 - beta2) * (grad ** 2) #update biased second raw moment estimate\n",
    "\n",
    "        #compute bias-corrected moment estimates\n",
    "        m_hat = m / (1 - beta1 ** t)\n",
    "        v_hat = v / (1 - beta2 ** t)\n",
    "\n",
    "        #parameter update\n",
    "        theta = theta - alpha * m_hat / (np.sqrt(v_hat) + epsilon)\n",
    "\n",
    "        #convergence check\n",
    "        if np.linalg.norm(grad) < 1e-6:\n",
    "            break\n",
    "    \n",
    "    return theta"
   ]
  },
  {
   "cell_type": "code",
   "execution_count": 3,
   "metadata": {},
   "outputs": [],
   "source": [
    "def f(x):\n",
    "    return x**2\n",
    "\n",
    "def grad_f(x):\n",
    "    return 2*x"
   ]
  },
  {
   "cell_type": "code",
   "execution_count": 4,
   "metadata": {},
   "outputs": [
    {
     "name": "stdout",
     "output_type": "stream",
     "text": [
      "Optimized Theta =  [2.07678563]\n"
     ]
    }
   ],
   "source": [
    "theta0 = np.array([3.0])\n",
    "optimized = adam(f, grad_f, theta0)\n",
    "print(\"Optimized Theta = \", optimized)"
   ]
  }
 ],
 "metadata": {
  "kernelspec": {
   "display_name": "Python 3",
   "language": "python",
   "name": "python3"
  },
  "language_info": {
   "codemirror_mode": {
    "name": "ipython",
    "version": 3
   },
   "file_extension": ".py",
   "mimetype": "text/x-python",
   "name": "python",
   "nbconvert_exporter": "python",
   "pygments_lexer": "ipython3",
   "version": "3.11.9"
  }
 },
 "nbformat": 4,
 "nbformat_minor": 2
}
